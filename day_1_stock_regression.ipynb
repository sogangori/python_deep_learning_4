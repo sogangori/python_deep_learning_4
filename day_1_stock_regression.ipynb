{
 "cells": [
  {
   "cell_type": "code",
   "execution_count": 3,
   "metadata": {},
   "outputs": [],
   "source": [
    "import numpy as np\n",
    "import pandas as pd\n",
    "import tensorflow as tf\n",
    "import tensorflow.contrib.slim as slim\n",
    "import matplotlib.pyplot as plt"
   ]
  },
  {
   "cell_type": "code",
   "execution_count": 16,
   "metadata": {},
   "outputs": [
    {
     "data": {
      "text/plain": [
       "2"
      ]
     },
     "execution_count": 16,
     "metadata": {},
     "output_type": "execute_result"
    }
   ],
   "source": [
    "tables = pd.read_html('https://finance.naver.com/item/sise_day.nhn?code=005930&page=1',\n",
    "                     encoding='cp949')\n",
    "len(tables)"
   ]
  },
  {
   "cell_type": "code",
   "execution_count": 17,
   "metadata": {},
   "outputs": [
    {
     "name": "stdout",
     "output_type": "stream",
     "text": [
      "(15, 7)\n",
      "(1, 12)\n"
     ]
    }
   ],
   "source": [
    "for table in tables:\n",
    "    print(table.shape)"
   ]
  },
  {
   "cell_type": "code",
   "execution_count": 23,
   "metadata": {},
   "outputs": [],
   "source": [
    "data = tables[0]\n",
    "data = data.dropna() # 누락 행 제거"
   ]
  },
  {
   "cell_type": "code",
   "execution_count": 38,
   "metadata": {},
   "outputs": [
    {
     "data": {
      "text/html": [
       "<div>\n",
       "<style scoped>\n",
       "    .dataframe tbody tr th:only-of-type {\n",
       "        vertical-align: middle;\n",
       "    }\n",
       "\n",
       "    .dataframe tbody tr th {\n",
       "        vertical-align: top;\n",
       "    }\n",
       "\n",
       "    .dataframe thead th {\n",
       "        text-align: right;\n",
       "    }\n",
       "</style>\n",
       "<table border=\"1\" class=\"dataframe\">\n",
       "  <thead>\n",
       "    <tr style=\"text-align: right;\">\n",
       "      <th></th>\n",
       "      <th>종가</th>\n",
       "      <th>전일비</th>\n",
       "      <th>시가</th>\n",
       "      <th>고가</th>\n",
       "      <th>저가</th>\n",
       "      <th>거래량</th>\n",
       "    </tr>\n",
       "    <tr>\n",
       "      <th>날짜</th>\n",
       "      <th></th>\n",
       "      <th></th>\n",
       "      <th></th>\n",
       "      <th></th>\n",
       "      <th></th>\n",
       "      <th></th>\n",
       "    </tr>\n",
       "  </thead>\n",
       "  <tbody>\n",
       "    <tr>\n",
       "      <th>2019.07.29</th>\n",
       "      <td>46100.0</td>\n",
       "      <td>1050.0</td>\n",
       "      <td>46800.0</td>\n",
       "      <td>47050.0</td>\n",
       "      <td>46000.0</td>\n",
       "      <td>6847014.0</td>\n",
       "    </tr>\n",
       "    <tr>\n",
       "      <th>2019.07.26</th>\n",
       "      <td>47150.0</td>\n",
       "      <td>50.0</td>\n",
       "      <td>46650.0</td>\n",
       "      <td>47150.0</td>\n",
       "      <td>46550.0</td>\n",
       "      <td>7873886.0</td>\n",
       "    </tr>\n",
       "    <tr>\n",
       "      <th>2019.07.25</th>\n",
       "      <td>47200.0</td>\n",
       "      <td>800.0</td>\n",
       "      <td>47150.0</td>\n",
       "      <td>47200.0</td>\n",
       "      <td>46600.0</td>\n",
       "      <td>8408838.0</td>\n",
       "    </tr>\n",
       "    <tr>\n",
       "      <th>2019.07.24</th>\n",
       "      <td>46400.0</td>\n",
       "      <td>900.0</td>\n",
       "      <td>47100.0</td>\n",
       "      <td>47150.0</td>\n",
       "      <td>46250.0</td>\n",
       "      <td>8756522.0</td>\n",
       "    </tr>\n",
       "    <tr>\n",
       "      <th>2019.07.23</th>\n",
       "      <td>47300.0</td>\n",
       "      <td>100.0</td>\n",
       "      <td>47350.0</td>\n",
       "      <td>47550.0</td>\n",
       "      <td>47050.0</td>\n",
       "      <td>9061381.0</td>\n",
       "    </tr>\n",
       "    <tr>\n",
       "      <th>2019.07.22</th>\n",
       "      <td>47200.0</td>\n",
       "      <td>400.0</td>\n",
       "      <td>46800.0</td>\n",
       "      <td>47300.0</td>\n",
       "      <td>46600.0</td>\n",
       "      <td>9009109.0</td>\n",
       "    </tr>\n",
       "    <tr>\n",
       "      <th>2019.07.19</th>\n",
       "      <td>46800.0</td>\n",
       "      <td>700.0</td>\n",
       "      <td>46650.0</td>\n",
       "      <td>46950.0</td>\n",
       "      <td>46600.0</td>\n",
       "      <td>8819393.0</td>\n",
       "    </tr>\n",
       "    <tr>\n",
       "      <th>2019.07.18</th>\n",
       "      <td>46100.0</td>\n",
       "      <td>50.0</td>\n",
       "      <td>46450.0</td>\n",
       "      <td>46450.0</td>\n",
       "      <td>45650.0</td>\n",
       "      <td>5143554.0</td>\n",
       "    </tr>\n",
       "    <tr>\n",
       "      <th>2019.07.17</th>\n",
       "      <td>46050.0</td>\n",
       "      <td>800.0</td>\n",
       "      <td>46150.0</td>\n",
       "      <td>46350.0</td>\n",
       "      <td>45950.0</td>\n",
       "      <td>5216602.0</td>\n",
       "    </tr>\n",
       "    <tr>\n",
       "      <th>2019.07.16</th>\n",
       "      <td>46850.0</td>\n",
       "      <td>400.0</td>\n",
       "      <td>46450.0</td>\n",
       "      <td>46850.0</td>\n",
       "      <td>46300.0</td>\n",
       "      <td>7407824.0</td>\n",
       "    </tr>\n",
       "  </tbody>\n",
       "</table>\n",
       "</div>"
      ],
      "text/plain": [
       "                 종가     전일비       시가       고가       저가        거래량\n",
       "날짜                                                               \n",
       "2019.07.29  46100.0  1050.0  46800.0  47050.0  46000.0  6847014.0\n",
       "2019.07.26  47150.0    50.0  46650.0  47150.0  46550.0  7873886.0\n",
       "2019.07.25  47200.0   800.0  47150.0  47200.0  46600.0  8408838.0\n",
       "2019.07.24  46400.0   900.0  47100.0  47150.0  46250.0  8756522.0\n",
       "2019.07.23  47300.0   100.0  47350.0  47550.0  47050.0  9061381.0\n",
       "2019.07.22  47200.0   400.0  46800.0  47300.0  46600.0  9009109.0\n",
       "2019.07.19  46800.0   700.0  46650.0  46950.0  46600.0  8819393.0\n",
       "2019.07.18  46100.0    50.0  46450.0  46450.0  45650.0  5143554.0\n",
       "2019.07.17  46050.0   800.0  46150.0  46350.0  45950.0  5216602.0\n",
       "2019.07.16  46850.0   400.0  46450.0  46850.0  46300.0  7407824.0"
      ]
     },
     "execution_count": 38,
     "metadata": {},
     "output_type": "execute_result"
    }
   ],
   "source": [
    "data"
   ]
  },
  {
   "cell_type": "code",
   "execution_count": 24,
   "metadata": {},
   "outputs": [],
   "source": [
    "data = data.set_index('날짜')"
   ]
  },
  {
   "cell_type": "code",
   "execution_count": 27,
   "metadata": {},
   "outputs": [
    {
     "data": {
      "text/plain": [
       "(10, 6)"
      ]
     },
     "execution_count": 27,
     "metadata": {},
     "output_type": "execute_result"
    }
   ],
   "source": [
    "arr = np.array(data)\n",
    "arr.shape"
   ]
  },
  {
   "cell_type": "code",
   "execution_count": 44,
   "metadata": {},
   "outputs": [
    {
     "data": {
      "text/plain": [
       "(10, 2)"
      ]
     },
     "execution_count": 44,
     "metadata": {},
     "output_type": "execute_result"
    }
   ],
   "source": [
    "x = arr[:, :-2] \n",
    "y = arr[:, -2:] \n",
    "#y = np.stack((arr[:, 0], arr[:, -1]), axis=1) #종가와 거래량를 차원 1 에 붙여라\n",
    "y.shape"
   ]
  },
  {
   "cell_type": "code",
   "execution_count": null,
   "metadata": {},
   "outputs": [],
   "source": [
    "from sklearn.linear_model import LinearRegression\n",
    "model = LinearRegression().fit(x,y)\n",
    "model.score(x,y)"
   ]
  },
  {
   "cell_type": "code",
   "execution_count": 43,
   "metadata": {},
   "outputs": [
    {
     "data": {
      "text/plain": [
       "<matplotlib.legend.Legend at 0x1e8f5125630>"
      ]
     },
     "execution_count": 43,
     "metadata": {},
     "output_type": "execute_result"
    },
    {
     "data": {
      "image/png": "[encoded data removed]",
      "text/plain": [
       "<Figure size 432x288 with 1 Axes>"
      ]
     },
     "metadata": {
      "needs_background": "light"
     },
     "output_type": "display_data"
    }
   ],
   "source": [
    "high_vol = model.predict(x)\n",
    "plt.plot(y[:,0], label='y_high')\n",
    "plt.plot(high_vol[:,0], label='predict_high')\n",
    "plt.plot(y[:,1], label='y_vol')\n",
    "plt.plot(high_vol[:,1], label='predict_vol')\n",
    "plt.legend()"
   ]
  },
  {
   "cell_type": "code",
   "execution_count": null,
   "metadata": {},
   "outputs": [],
   "source": []
  },
  {
   "cell_type": "code",
   "execution_count": 20,
   "metadata": {},
   "outputs": [
    {
     "data": {
      "text/html": [
       "<div>\n",
       "<style scoped>\n",
       "    .dataframe tbody tr th:only-of-type {\n",
       "        vertical-align: middle;\n",
       "    }\n",
       "\n",
       "    .dataframe tbody tr th {\n",
       "        vertical-align: top;\n",
       "    }\n",
       "\n",
       "    .dataframe thead th {\n",
       "        text-align: right;\n",
       "    }\n",
       "</style>\n",
       "<table border=\"1\" class=\"dataframe\">\n",
       "  <thead>\n",
       "    <tr style=\"text-align: right;\">\n",
       "      <th></th>\n",
       "      <th>날짜</th>\n",
       "      <th>종가</th>\n",
       "      <th>전일비</th>\n",
       "      <th>시가</th>\n",
       "      <th>고가</th>\n",
       "      <th>저가</th>\n",
       "      <th>거래량</th>\n",
       "    </tr>\n",
       "  </thead>\n",
       "  <tbody>\n",
       "    <tr>\n",
       "      <th>0</th>\n",
       "      <td>2019.07.15</td>\n",
       "      <td>46,450</td>\n",
       "      <td>상승 150</td>\n",
       "      <td>45,950</td>\n",
       "      <td>46,650</td>\n",
       "      <td>45,750</td>\n",
       "      <td>4,717,226</td>\n",
       "    </tr>\n",
       "    <tr>\n",
       "      <th>1</th>\n",
       "      <td>2019.07.12</td>\n",
       "      <td>46,300</td>\n",
       "      <td>상승 100</td>\n",
       "      <td>46,350</td>\n",
       "      <td>46,400</td>\n",
       "      <td>45,800</td>\n",
       "      <td>5,245,804</td>\n",
       "    </tr>\n",
       "    <tr>\n",
       "      <th>2</th>\n",
       "      <td>2019.07.11</td>\n",
       "      <td>46,200</td>\n",
       "      <td>상승 650</td>\n",
       "      <td>46,350</td>\n",
       "      <td>46,550</td>\n",
       "      <td>46,150</td>\n",
       "      <td>10,989,751</td>\n",
       "    </tr>\n",
       "    <tr>\n",
       "      <th>3</th>\n",
       "      <td>2019.07.10</td>\n",
       "      <td>45,550</td>\n",
       "      <td>상승 450</td>\n",
       "      <td>45,550</td>\n",
       "      <td>46,150</td>\n",
       "      <td>45,500</td>\n",
       "      <td>9,253,930</td>\n",
       "    </tr>\n",
       "    <tr>\n",
       "      <th>4</th>\n",
       "      <td>2019.07.09</td>\n",
       "      <td>45,100</td>\n",
       "      <td>상승 700</td>\n",
       "      <td>44,850</td>\n",
       "      <td>45,450</td>\n",
       "      <td>44,700</td>\n",
       "      <td>7,646,421</td>\n",
       "    </tr>\n",
       "    <tr>\n",
       "      <th>5</th>\n",
       "      <td>2019.07.08</td>\n",
       "      <td>44,400</td>\n",
       "      <td>하락 1,250</td>\n",
       "      <td>44,750</td>\n",
       "      <td>44,800</td>\n",
       "      <td>44,350</td>\n",
       "      <td>7,823,843</td>\n",
       "    </tr>\n",
       "    <tr>\n",
       "      <th>6</th>\n",
       "      <td>2019.07.05</td>\n",
       "      <td>45,650</td>\n",
       "      <td>하락 350</td>\n",
       "      <td>45,950</td>\n",
       "      <td>45,950</td>\n",
       "      <td>45,250</td>\n",
       "      <td>7,235,395</td>\n",
       "    </tr>\n",
       "    <tr>\n",
       "      <th>7</th>\n",
       "      <td>2019.07.04</td>\n",
       "      <td>46,000</td>\n",
       "      <td>상승 600</td>\n",
       "      <td>45,250</td>\n",
       "      <td>46,200</td>\n",
       "      <td>45,250</td>\n",
       "      <td>6,365,573</td>\n",
       "    </tr>\n",
       "    <tr>\n",
       "      <th>8</th>\n",
       "      <td>2019.07.03</td>\n",
       "      <td>45,400</td>\n",
       "      <td>하락 850</td>\n",
       "      <td>45,750</td>\n",
       "      <td>46,350</td>\n",
       "      <td>45,200</td>\n",
       "      <td>9,669,368</td>\n",
       "    </tr>\n",
       "    <tr>\n",
       "      <th>9</th>\n",
       "      <td>2019.07.02</td>\n",
       "      <td>46,250</td>\n",
       "      <td>하락 350</td>\n",
       "      <td>46,200</td>\n",
       "      <td>46,900</td>\n",
       "      <td>45,850</td>\n",
       "      <td>8,463,073</td>\n",
       "    </tr>\n",
       "  </tbody>\n",
       "</table>\n",
       "</div>"
      ],
      "text/plain": [
       "           날짜      종가       전일비      시가      고가      저가         거래량\n",
       "0  2019.07.15  46,450    상승 150  45,950  46,650  45,750   4,717,226\n",
       "1  2019.07.12  46,300    상승 100  46,350  46,400  45,800   5,245,804\n",
       "2  2019.07.11  46,200    상승 650  46,350  46,550  46,150  10,989,751\n",
       "3  2019.07.10  45,550    상승 450  45,550  46,150  45,500   9,253,930\n",
       "4  2019.07.09  45,100    상승 700  44,850  45,450  44,700   7,646,421\n",
       "5  2019.07.08  44,400  하락 1,250  44,750  44,800  44,350   7,823,843\n",
       "6  2019.07.05  45,650    하락 350  45,950  45,950  45,250   7,235,395\n",
       "7  2019.07.04  46,000    상승 600  45,250  46,200  45,250   6,365,573\n",
       "8  2019.07.03  45,400    하락 850  45,750  46,350  45,200   9,669,368\n",
       "9  2019.07.02  46,250    하락 350  46,200  46,900  45,850   8,463,073"
      ]
     },
     "execution_count": 20,
     "metadata": {},
     "output_type": "execute_result"
    }
   ],
   "source": [
    "data = pd.read_clipboard() #드래그 복사 후 \n",
    "data"
   ]
  },
  {
   "cell_type": "code",
   "execution_count": null,
   "metadata": {},
   "outputs": [],
   "source": []
  }
 ],
 "metadata": {
  "kernelspec": {
   "display_name": "Python 3",
   "language": "python",
   "name": "python3"
  },
  "language_info": {
   "codemirror_mode": {
    "name": "ipython",
    "version": 3
   },
   "file_extension": ".py",
   "mimetype": "text/x-python",
   "name": "python",
   "nbconvert_exporter": "python",
   "pygments_lexer": "ipython3",
   "version": "3.7.3"
  }
 },
 "nbformat": 4,
 "nbformat_minor": 2
}
