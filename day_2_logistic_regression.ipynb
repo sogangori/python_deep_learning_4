{
 "cells": [
  {
   "cell_type": "markdown",
   "metadata": {},
   "source": [
    "시험성적, 공부시간(X) > 통과(0),실패(1)"
   ]
  },
  {
   "cell_type": "code",
   "execution_count": 188,
   "metadata": {},
   "outputs": [],
   "source": [
    "import numpy as np\n",
    "import tensorflow as tf\n",
    "import matplotlib.pyplot as plt"
   ]
  },
  {
   "cell_type": "code",
   "execution_count": 217,
   "metadata": {
    "scrolled": false
   },
   "outputs": [
    {
     "data": {
      "text/plain": [
       "[<matplotlib.lines.Line2D at 0x1bde04917b8>]"
      ]
     },
     "execution_count": 217,
     "metadata": {},
     "output_type": "execute_result"
    },
    {
     "data": {
      "image/png": "[encoded data removed]",
      "text/plain": [
       "<Figure size 216x216 with 1 Axes>"
      ]
     },
     "metadata": {
      "needs_background": "light"
     },
     "output_type": "display_data"
    }
   ],
   "source": [
    "x = np.arange(-10,10, 0.1)\n",
    "y = 1 / (1+ np.exp(-x))\n",
    "plt.figure(figsize=(3,3)) #(w,h) 인치\n",
    "plt.plot(x, y)"
   ]
  },
  {
   "cell_type": "code",
   "execution_count": 222,
   "metadata": {
    "scrolled": true
   },
   "outputs": [
    {
     "name": "stderr",
     "output_type": "stream",
     "text": [
      "C:\\Users\\1\\Anaconda3\\lib\\site-packages\\ipykernel_launcher.py:2: RuntimeWarning: invalid value encountered in log\n",
      "  \n"
     ]
    },
    {
     "data": {
      "text/plain": [
       "[<matplotlib.lines.Line2D at 0x1bde06a3908>]"
      ]
     },
     "execution_count": 222,
     "metadata": {},
     "output_type": "execute_result"
    },
    {
     "data": {
      "image/png": "[encoded data removed]",
      "text/plain": [
       "<Figure size 216x216 with 1 Axes>"
      ]
     },
     "metadata": {
      "needs_background": "light"
     },
     "output_type": "display_data"
    }
   ],
   "source": [
    "x = np.arange(-1,2,0.1)\n",
    "y = np.log(x)\n",
    "plt.figure(figsize=(3,3))\n",
    "plt.plot(x, y)"
   ]
  },
  {
   "cell_type": "code",
   "execution_count": 281,
   "metadata": {},
   "outputs": [
    {
     "data": {
      "text/plain": [
       "[<matplotlib.lines.Line2D at 0x1bde20292b0>]"
      ]
     },
     "execution_count": 281,
     "metadata": {},
     "output_type": "execute_result"
    },
    {
     "data": {
      "image/png": "[encoded data removed]",
      "text/plain": [
       "<Figure size 216x216 with 1 Axes>"
      ]
     },
     "metadata": {
      "needs_background": "light"
     },
     "output_type": "display_data"
    }
   ],
   "source": [
    "x = np.arange(-1,2,0.1)\n",
    "y = np.square(x - 0.5)\n",
    "plt.figure(figsize=(3,3))\n",
    "plt.plot(x, y)"
   ]
  },
  {
   "cell_type": "code",
   "execution_count": 225,
   "metadata": {},
   "outputs": [
    {
     "data": {
      "text/plain": [
       "(array([1.  , 0.36, 0.  ]), array([ 9.21,  0.92, -0.  ]))"
      ]
     },
     "execution_count": 225,
     "metadata": {},
     "output_type": "execute_result"
    }
   ],
   "source": [
    "y = [1, 1, 1]\n",
    "h = np.array([0.0001, 0.4, 1])\n",
    "cost_mse = np.square(h - y)\n",
    "cost_log = -np.log(h)\n",
    "cost_mse, cost_log"
   ]
  },
  {
   "cell_type": "code",
   "execution_count": 227,
   "metadata": {
    "scrolled": true
   },
   "outputs": [
    {
     "data": {
      "text/plain": [
       "(array([1.0e-08, 1.6e-01, 9.8e-01]), array([1.00e-04, 5.11e-01, 4.61e+00]))"
      ]
     },
     "execution_count": 227,
     "metadata": {},
     "output_type": "execute_result"
    }
   ],
   "source": [
    "y = [0, 0, 0]\n",
    "h = np.array([0.0001, 0.4, 0.99])\n",
    "cost_mse = np.square(h - y)\n",
    "cost_log = -np.log(1 - h)\n",
    "cost_mse, cost_log"
   ]
  },
  {
   "cell_type": "code",
   "execution_count": 282,
   "metadata": {},
   "outputs": [],
   "source": [
    "from sklearn.datasets import load_breast_cancer"
   ]
  },
  {
   "cell_type": "code",
   "execution_count": 284,
   "metadata": {},
   "outputs": [],
   "source": [
    "data = load_breast_cancer()"
   ]
  },
  {
   "cell_type": "code",
   "execution_count": 293,
   "metadata": {},
   "outputs": [
    {
     "data": {
      "text/plain": [
       "(list, tuple, dict)"
      ]
     },
     "execution_count": 293,
     "metadata": {},
     "output_type": "execute_result"
    }
   ],
   "source": [
    "type([1,2,3]), type((1,2,3)), type({'name':'park', 'num':1} )"
   ]
  },
  {
   "cell_type": "code",
   "execution_count": 301,
   "metadata": {},
   "outputs": [
    {
     "data": {
      "text/plain": [
       "{'num': 1, 'city': 'seoul'}"
      ]
     },
     "execution_count": 301,
     "metadata": {},
     "output_type": "execute_result"
    }
   ],
   "source": [
    "a = {'name':'park', 'num':1}\n",
    "a['city'] = 'seoul'\n",
    "a['num'], a['name']\n",
    "a['name']='kim'\n",
    "del a['name']\n",
    "a"
   ]
  },
  {
   "cell_type": "code",
   "execution_count": 310,
   "metadata": {},
   "outputs": [
    {
     "data": {
      "text/plain": [
       "((569, 30), (569,))"
      ]
     },
     "execution_count": 310,
     "metadata": {},
     "output_type": "execute_result"
    }
   ],
   "source": [
    "# 딕셔너리의 값에 접근하려면 딕['키'], 딕.키 \n",
    "data.data.shape, data.target.shape"
   ]
  },
  {
   "cell_type": "code",
   "execution_count": 312,
   "metadata": {},
   "outputs": [
    {
     "data": {
      "text/plain": [
       "0.6274165202108963"
      ]
     },
     "execution_count": 312,
     "metadata": {},
     "output_type": "execute_result"
    }
   ],
   "source": [
    "np.mean(data.target) #양성 62% 존재"
   ]
  },
  {
   "cell_type": "code",
   "execution_count": 313,
   "metadata": {},
   "outputs": [
    {
     "data": {
      "text/plain": [
       "array(['malignant', 'benign'], dtype='<U9')"
      ]
     },
     "execution_count": 313,
     "metadata": {},
     "output_type": "execute_result"
    }
   ],
   "source": [
    "data.target_names #악성, 양성"
   ]
  },
  {
   "cell_type": "code",
   "execution_count": 314,
   "metadata": {},
   "outputs": [
    {
     "data": {
      "text/plain": [
       "array(['mean radius', 'mean texture', 'mean perimeter', 'mean area',\n",
       "       'mean smoothness', 'mean compactness', 'mean concavity',\n",
       "       'mean concave points', 'mean symmetry', 'mean fractal dimension',\n",
       "       'radius error', 'texture error', 'perimeter error', 'area error',\n",
       "       'smoothness error', 'compactness error', 'concavity error',\n",
       "       'concave points error', 'symmetry error',\n",
       "       'fractal dimension error', 'worst radius', 'worst texture',\n",
       "       'worst perimeter', 'worst area', 'worst smoothness',\n",
       "       'worst compactness', 'worst concavity', 'worst concave points',\n",
       "       'worst symmetry', 'worst fractal dimension'], dtype='<U23')"
      ]
     },
     "execution_count": 314,
     "metadata": {},
     "output_type": "execute_result"
    }
   ],
   "source": [
    "data.feature_names #30 개 특성 이름"
   ]
  },
  {
   "cell_type": "code",
   "execution_count": 323,
   "metadata": {},
   "outputs": [
    {
     "data": {
      "text/html": [
       "<div>\n",
       "<style scoped>\n",
       "    .dataframe tbody tr th:only-of-type {\n",
       "        vertical-align: middle;\n",
       "    }\n",
       "\n",
       "    .dataframe tbody tr th {\n",
       "        vertical-align: top;\n",
       "    }\n",
       "\n",
       "    .dataframe thead th {\n",
       "        text-align: right;\n",
       "    }\n",
       "</style>\n",
       "<table border=\"1\" class=\"dataframe\">\n",
       "  <thead>\n",
       "    <tr style=\"text-align: right;\">\n",
       "      <th></th>\n",
       "      <th>mean radius</th>\n",
       "      <th>mean texture</th>\n",
       "      <th>mean perimeter</th>\n",
       "      <th>mean area</th>\n",
       "      <th>mean smoothness</th>\n",
       "      <th>mean compactness</th>\n",
       "      <th>mean concavity</th>\n",
       "      <th>mean concave points</th>\n",
       "      <th>mean symmetry</th>\n",
       "      <th>mean fractal dimension</th>\n",
       "      <th>...</th>\n",
       "      <th>worst radius</th>\n",
       "      <th>worst texture</th>\n",
       "      <th>worst perimeter</th>\n",
       "      <th>worst area</th>\n",
       "      <th>worst smoothness</th>\n",
       "      <th>worst compactness</th>\n",
       "      <th>worst concavity</th>\n",
       "      <th>worst concave points</th>\n",
       "      <th>worst symmetry</th>\n",
       "      <th>worst fractal dimension</th>\n",
       "    </tr>\n",
       "  </thead>\n",
       "  <tbody>\n",
       "    <tr>\n",
       "      <th>0</th>\n",
       "      <td>17.99</td>\n",
       "      <td>10.38</td>\n",
       "      <td>122.8</td>\n",
       "      <td>1001.0</td>\n",
       "      <td>0.1184</td>\n",
       "      <td>0.2776</td>\n",
       "      <td>0.3001</td>\n",
       "      <td>0.1471</td>\n",
       "      <td>0.2419</td>\n",
       "      <td>0.07871</td>\n",
       "      <td>...</td>\n",
       "      <td>25.38</td>\n",
       "      <td>17.33</td>\n",
       "      <td>184.6</td>\n",
       "      <td>2019.0</td>\n",
       "      <td>0.1622</td>\n",
       "      <td>0.6656</td>\n",
       "      <td>0.7119</td>\n",
       "      <td>0.2654</td>\n",
       "      <td>0.4601</td>\n",
       "      <td>0.1189</td>\n",
       "    </tr>\n",
       "  </tbody>\n",
       "</table>\n",
       "<p>1 rows × 30 columns</p>\n",
       "</div>"
      ],
      "text/plain": [
       "   mean radius  mean texture  mean perimeter  mean area  mean smoothness  \\\n",
       "0        17.99         10.38           122.8     1001.0           0.1184   \n",
       "\n",
       "   mean compactness  mean concavity  mean concave points  mean symmetry  \\\n",
       "0            0.2776          0.3001               0.1471         0.2419   \n",
       "\n",
       "   mean fractal dimension  ...  worst radius  worst texture  worst perimeter  \\\n",
       "0                 0.07871  ...         25.38          17.33            184.6   \n",
       "\n",
       "   worst area  worst smoothness  worst compactness  worst concavity  \\\n",
       "0      2019.0            0.1622             0.6656           0.7119   \n",
       "\n",
       "   worst concave points  worst symmetry  worst fractal dimension  \n",
       "0                0.2654          0.4601                   0.1189  \n",
       "\n",
       "[1 rows x 30 columns]"
      ]
     },
     "execution_count": 323,
     "metadata": {},
     "output_type": "execute_result"
    }
   ],
   "source": [
    "import pandas as pd\n",
    "df = pd.DataFrame(data.data, columns=data.feature_names)\n",
    "df.head(1)"
   ]
  },
  {
   "cell_type": "code",
   "execution_count": 322,
   "metadata": {
    "scrolled": false
   },
   "outputs": [
    {
     "data": {
      "image/png": "[encoded data removed]",
      "text/plain": [
       "<Figure size 720x720 with 30 Axes>"
      ]
     },
     "metadata": {
      "needs_background": "light"
     },
     "output_type": "display_data"
    }
   ],
   "source": [
    "h = df.hist(figsize=(10,10))"
   ]
  },
  {
   "cell_type": "code",
   "execution_count": 324,
   "metadata": {},
   "outputs": [
    {
     "data": {
      "text/plain": [
       "((569, 30), (569,))"
      ]
     },
     "execution_count": 324,
     "metadata": {},
     "output_type": "execute_result"
    }
   ],
   "source": [
    "x = data.data\n",
    "y = data.target\n",
    "x.shape, y.shape"
   ]
  },
  {
   "cell_type": "code",
   "execution_count": 333,
   "metadata": {},
   "outputs": [
    {
     "data": {
      "text/plain": [
       "(0.0, 1.0)"
      ]
     },
     "execution_count": 333,
     "metadata": {},
     "output_type": "execute_result"
    }
   ],
   "source": [
    "#x_norm = x / np.max(x, axis=0)\n",
    "x_norm = (x - np.min(x, axis=0)) / (np.max(x, axis=0) - np.min(x, axis=0)) #min-max\n",
    "np.min(x_norm), np.max(x_norm)"
   ]
  },
  {
   "cell_type": "code",
   "execution_count": 345,
   "metadata": {},
   "outputs": [],
   "source": [
    "#학습용 75%, 검증용 25% 분리 \n",
    "y = np.expand_dims(y, axis=1) # 2차원으로 변환\n",
    "m_train = int(len(y) * 0.75)\n",
    "x_train = x_norm[:m_train]\n",
    "x_test  = x_norm[m_train:]\n",
    "y_train = y[:m_train]\n",
    "y_test = y[m_train:]"
   ]
  },
  {
   "cell_type": "code",
   "execution_count": 344,
   "metadata": {},
   "outputs": [
    {
     "data": {
      "text/plain": [
       "((426, 30), (426, 1))"
      ]
     },
     "execution_count": 344,
     "metadata": {},
     "output_type": "execute_result"
    }
   ],
   "source": [
    "x_train.shape, y_train.shape"
   ]
  },
  {
   "cell_type": "code",
   "execution_count": 235,
   "metadata": {},
   "outputs": [
    {
     "data": {
      "text/plain": [
       "array([0.11, 0.22, 0.36, 0.36, 0.22, 2.3 ])"
      ]
     },
     "execution_count": 235,
     "metadata": {},
     "output_type": "execute_result"
    }
   ],
   "source": [
    "# y==1               y==0\n",
    "y * -np.log(h) +  (1-y) * -np.log(1 - h)"
   ]
  },
  {
   "cell_type": "code",
   "execution_count": 244,
   "metadata": {},
   "outputs": [],
   "source": [
    "x = [1,2,3,5,6,7,8]\n",
    "y = [1,1,1,0,0,0,0]"
   ]
  },
  {
   "cell_type": "code",
   "execution_count": 347,
   "metadata": {},
   "outputs": [
    {
     "data": {
      "text/plain": [
       "(numpy.ndarray, (17070, 1), 2)"
      ]
     },
     "execution_count": 347,
     "metadata": {},
     "output_type": "execute_result"
    }
   ],
   "source": [
    "x = np.array(x).reshape((-1,1)).astype(np.float32)\n",
    "y = np.array(y).reshape((-1,1)).astype(np.float32)\n",
    "type(x), x.shape, x.ndim"
   ]
  },
  {
   "cell_type": "code",
   "execution_count": 256,
   "metadata": {},
   "outputs": [
    {
     "data": {
      "text/plain": [
       "1e-08"
      ]
     },
     "execution_count": 256,
     "metadata": {},
     "output_type": "execute_result"
    }
   ],
   "source": [
    "1e-8"
   ]
  },
  {
   "cell_type": "code",
   "execution_count": 350,
   "metadata": {},
   "outputs": [],
   "source": [
    "x_train = x_train.astype(np.float32)\n",
    "x_test = x_test.astype(np.float32)"
   ]
  },
  {
   "cell_type": "code",
   "execution_count": 354,
   "metadata": {},
   "outputs": [],
   "source": [
    "w = tf.Variable(tf.random_normal([30,1]))\n",
    "b = tf.Variable(0.0)\n",
    "z = tf.matmul(x_train, w) + b \n",
    "h = tf.sigmoid(z)\n",
    "h = tf.clip_by_value(h, 1e-8, 1.0 - 1e-8) #log(0)이 되지않도록 최대 최소값을 지정해줍니다\n",
    "#cost = tf.reduce_mean(tf.square(h - y)) #MSE\n",
    "cost = tf.reduce_mean(y_train * -tf.log(h) + (1-y_train) * -tf.log(1 - h)) #CE : Cross Entropy \n",
    "maginal_cost = tf.maximum(cost, 0.01) # Y가 정확하지 않을때 \n",
    "predict = tf.cast(h > 0.5, tf.int32) # 모델과 상관 없습니다, 편의를 위해 사용\n",
    "accuracy = tf.reduce_mean(tf.cast(tf.equal(predict, tf.cast(y_train,tf.int32)), tf.int32))"
   ]
  },
  {
   "cell_type": "code",
   "execution_count": 372,
   "metadata": {},
   "outputs": [],
   "source": [
    "train = tf.train.GradientDescentOptimizer(0.5).minimize(cost)\n",
    "sess = tf.Session()\n",
    "sess.run(tf.global_variables_initializer())"
   ]
  },
  {
   "cell_type": "code",
   "execution_count": 379,
   "metadata": {},
   "outputs": [
    {
     "name": "stdout",
     "output_type": "stream",
     "text": [
      "0 0.6788833 0\n",
      "1000 0.678873 0\n",
      "2000 0.67886424 0\n",
      "3000 0.67885673 0\n",
      "4000 0.6788503 0\n",
      "5000 0.67884463 0\n",
      "6000 0.6788399 0\n",
      "7000 0.6788357 0\n",
      "8000 0.678832 0\n",
      "9000 0.67882913 0\n",
      "10000 0.6788263 0\n",
      "11000 0.67882365 0\n",
      "12000 0.6788215 0\n",
      "13000 0.6788194 0\n",
      "14000 0.67881763 0\n",
      "15000 0.67881644 0\n",
      "16000 0.6788148 0\n",
      "17000 0.6788136 0\n",
      "18000 0.6788123 0\n",
      "19000 0.6788112 0\n"
     ]
    }
   ],
   "source": [
    "for i in range(20000):\n",
    "    _, acc, co = sess.run([train, accuracy, cost])\n",
    "    if i%1000==0: print(i, co, acc)"
   ]
  },
  {
   "cell_type": "code",
   "execution_count": 357,
   "metadata": {},
   "outputs": [
    {
     "data": {
      "text/plain": [
       "array([ 7.09e-01,  9.93e-01,  5.61e-01,  3.63e-01,  6.44e-01,  3.15e-01,\n",
       "        5.03e-01,  4.13e-01, -6.77e-02, -7.78e-01,  5.84e-01,  2.76e-01,\n",
       "        7.72e-01, -5.96e-02, -4.40e-01, -2.90e-01,  5.81e-01,  3.97e-01,\n",
       "        4.42e-01,  3.45e-01,  3.66e-01,  5.98e-01, -4.87e-02,  8.51e-01,\n",
       "        8.05e-01,  8.08e-01, -4.20e-01,  4.99e-01, -2.86e-01,  6.42e-01,\n",
       "        1.28e-01,  1.84e-01,  2.67e-01, -1.26e-01,  1.85e-01,  1.79e-01,\n",
       "       -6.11e-02,  5.62e-01,  4.29e-01, -2.73e-01,  9.43e-02,  1.81e-01,\n",
       "       -2.16e-01,  2.54e-01,  2.27e-02,  1.32e-01,  3.05e-01,  2.39e-01,\n",
       "        3.80e-01,  5.95e-02,  3.27e-01,  4.59e-01,  3.55e-01,  1.00e+00,\n",
       "        2.53e-01,  3.77e-01,  9.03e-01,  3.82e-01,  3.89e-01,  8.40e-01,\n",
       "        7.69e-01,  3.10e-01, -2.07e-01,  5.82e-01,  1.75e-01,  2.45e-01,\n",
       "        3.62e-01,  1.26e-01, -5.28e-01,  4.09e-01,  5.72e-01,  8.65e-01,\n",
       "       -5.37e-02,  3.07e-01,  3.41e-01,  3.44e-01,  6.38e-01,  6.02e-01,\n",
       "       -8.97e-02,  2.69e-01,  3.75e-01,  2.18e-02,  3.21e-01,  7.69e-01,\n",
       "        4.57e-01,  9.85e-01,  8.41e-02,  1.68e-01,  1.38e-01,  4.83e-01,\n",
       "        2.62e-01, -7.25e-02,  4.46e-01,  3.77e-01, -2.06e-01,  4.68e-01,\n",
       "        6.78e-01,  4.71e-01,  6.01e-01,  1.86e-01,  7.28e-02,  7.73e-01,\n",
       "        3.32e-01, -5.17e-02,  2.87e-01,  5.05e-01,  3.49e-01,  2.25e-01,\n",
       "        5.92e-01,  2.07e-01,  3.29e-01,  1.58e-01, -7.25e-02,  2.50e-01,\n",
       "        4.95e-01,  2.60e-01, -1.12e-01,  4.74e-01,  1.15e-01,  7.22e-01,\n",
       "        5.86e-01,  9.57e-01,  4.16e-01,  7.40e-01,  3.48e-02,  4.90e-01,\n",
       "        2.01e-02,  4.78e-01,  3.38e-01,  2.50e-01,  6.49e-01,  3.69e-01,\n",
       "        3.16e-01,  5.62e-01,  5.74e-01,  3.15e-01,  5.83e-01,  3.10e-01,\n",
       "        7.06e-01,  3.57e-01,  8.32e-01,  5.78e-01,  5.66e-01,  3.46e-01,\n",
       "        3.25e-01,  7.61e-01,  4.61e-01,  5.71e-01,  2.14e-01,  2.78e-01,\n",
       "        3.73e-01,  4.83e-02,  1.12e+00,  5.44e-01,  5.52e-01,  3.55e-01,\n",
       "        3.82e-01,  3.72e-01,  6.61e-01,  6.89e-01,  1.36e-01,  5.77e-01,\n",
       "        7.00e-01,  1.53e-01,  7.41e-01,  4.17e-01,  6.71e-01,  5.34e-01,\n",
       "        4.46e-01,  4.69e-01,  5.37e-01,  4.84e-01,  6.13e-01,  4.08e-01,\n",
       "        3.66e-01,  4.61e-01,  6.79e-01, -1.17e-01,  2.99e-01,  6.82e-01,\n",
       "        1.03e+00, -2.07e-01,  4.37e-01,  4.85e-01,  2.76e-02,  4.92e-01,\n",
       "        3.65e-01,  3.49e-01,  5.03e-01,  1.73e-01, -3.62e-01,  6.45e-01,\n",
       "        5.53e-01, -4.08e-03, -5.18e-01,  3.23e-01,  2.17e-01,  4.62e-01,\n",
       "        1.00e-02,  2.44e-01,  3.46e-01,  1.22e-01,  9.13e-02,  5.31e-01,\n",
       "        3.27e-01,  4.42e-01,  2.90e-01,  5.23e-01,  9.39e-02,  4.28e-01,\n",
       "        2.19e-01,  2.96e-01,  1.02e+00, -4.08e-01,  3.38e-02,  8.00e-02,\n",
       "        1.32e-01,  4.42e-01,  6.18e-01,  2.38e-01,  5.97e-01,  3.58e-01,\n",
       "        5.30e-01,  4.33e-01,  4.41e-01,  5.24e-01,  5.22e-01, -2.08e-02,\n",
       "       -2.53e-01, -1.94e-01,  1.42e-01, -7.71e-02, -4.65e-02,  3.28e-01,\n",
       "        4.92e-01,  3.69e-01,  5.14e-01,  4.71e-01, -1.07e-01, -2.73e-01,\n",
       "        4.53e-01,  6.44e-01, -9.65e-02,  1.52e-01,  3.43e-01,  2.44e-01,\n",
       "        3.00e-01, -5.57e-01,  3.00e-01,  3.88e-01,  3.02e-01,  3.47e-01,\n",
       "        2.98e-01,  5.58e-01,  7.26e-01,  2.91e-01, -1.35e-01,  5.58e-01,\n",
       "       -1.91e-01, -3.26e-01,  5.17e-01,  4.54e-01,  4.82e-01,  3.91e-01,\n",
       "        3.19e-01,  1.10e+00,  9.85e-02,  1.40e-01,  4.91e-01,  1.31e-01,\n",
       "        5.00e-01,  5.05e-01,  4.90e-01,  4.03e-01,  4.92e-01,  2.97e-01,\n",
       "        5.84e-01,  4.32e-01,  4.92e-01,  4.95e-01,  3.62e-01,  7.13e-01,\n",
       "        5.24e-01,  6.13e-02,  3.93e-02,  4.72e-01,  2.22e-01,  4.52e-01,\n",
       "        2.23e-01,  4.61e-01,  1.23e+00,  2.50e-01,  5.96e-01,  3.19e-01,\n",
       "        4.75e-01,  7.61e-01,  6.88e-01,  6.65e-01,  2.89e-01,  3.83e-02,\n",
       "        7.93e-01,  1.42e-01,  6.25e-01,  3.47e-01,  2.61e-01,  8.08e-02,\n",
       "        7.22e-01,  6.01e-01,  6.81e-01,  7.11e-01,  4.87e-01,  6.03e-01,\n",
       "        4.59e-01,  6.30e-01,  1.25e-03,  4.77e-01,  5.01e-01,  4.23e-01,\n",
       "        1.01e-01,  3.96e-01,  5.52e-01,  6.22e-01,  6.42e-01,  7.82e-01,\n",
       "        4.89e-01,  4.07e-01,  7.68e-01,  5.32e-01,  4.55e-01,  5.11e-01,\n",
       "       -8.90e-03,  6.81e-02,  2.19e-01,  6.95e-01,  4.91e-01,  6.25e-01,\n",
       "        6.46e-01,  4.03e-01,  3.97e-01,  1.05e+00,  2.12e-01, -2.79e-02,\n",
       "        3.80e-01,  4.43e-01,  5.56e-01,  4.11e-01,  5.08e-01,  5.56e-01,\n",
       "        5.99e-01,  5.55e-01,  4.46e-01,  1.42e-01,  9.56e-01,  3.33e-01,\n",
       "        5.71e-01,  2.92e-02,  2.62e-01,  6.40e-01,  2.06e-01,  5.69e-01,\n",
       "        3.29e-01,  2.06e-01,  3.68e-01,  5.00e-01,  4.14e-01,  4.71e-01,\n",
       "        2.56e-01,  2.44e-01,  1.43e+00,  5.27e-01, -1.55e-01,  4.63e-01,\n",
       "        7.07e-01,  7.04e-01,  4.11e-01,  3.74e-01, -4.20e-02,  8.48e-02,\n",
       "        3.94e-01, -7.37e-01,  6.63e-01,  3.05e-01, -1.13e-01,  1.09e-01,\n",
       "        9.41e-02,  8.48e-02,  2.85e-01,  4.04e-01,  3.70e-01,  3.84e-01,\n",
       "        6.06e-01,  3.30e-01,  3.83e-01,  2.75e-01,  3.06e-01,  4.61e-01,\n",
       "        4.72e-02,  1.80e-01,  4.34e-01,  4.72e-01, -2.29e-01,  6.04e-01,\n",
       "        3.20e-01,  4.26e-01,  4.20e-01,  3.50e-01,  5.01e-01,  4.64e-01,\n",
       "        2.81e-01,  4.63e-01,  5.29e-01,  5.63e-01,  1.51e-01, -2.21e-03,\n",
       "        1.71e-01,  1.58e-01,  2.82e-01,  6.57e-01,  8.42e-01,  3.99e-01,\n",
       "        1.28e-01,  3.38e-01,  2.17e-01, -2.17e-02,  3.75e-01,  4.25e-01],\n",
       "      dtype=float32)"
      ]
     },
     "execution_count": 357,
     "metadata": {},
     "output_type": "execute_result"
    }
   ],
   "source": [
    "np.set_printoptions(precision=2)\n",
    "sess.run(z).reshape([-1])"
   ]
  },
  {
   "cell_type": "code",
   "execution_count": 358,
   "metadata": {},
   "outputs": [
    {
     "data": {
      "text/plain": [
       "array([0.67, 0.73, 0.64, 0.59, 0.66, 0.58, 0.62, 0.6 , 0.48, 0.31, 0.64,\n",
       "       0.57, 0.68, 0.49, 0.39, 0.43, 0.64, 0.6 , 0.61, 0.59, 0.59, 0.65,\n",
       "       0.49, 0.7 , 0.69, 0.69, 0.4 , 0.62, 0.43, 0.66, 0.53, 0.55, 0.57,\n",
       "       0.47, 0.55, 0.54, 0.48, 0.64, 0.61, 0.43, 0.52, 0.55, 0.45, 0.56,\n",
       "       0.51, 0.53, 0.58, 0.56, 0.59, 0.51, 0.58, 0.61, 0.59, 0.73, 0.56,\n",
       "       0.59, 0.71, 0.59, 0.6 , 0.7 , 0.68, 0.58, 0.45, 0.64, 0.54, 0.56,\n",
       "       0.59, 0.53, 0.37, 0.6 , 0.64, 0.7 , 0.49, 0.58, 0.58, 0.59, 0.65,\n",
       "       0.65, 0.48, 0.57, 0.59, 0.51, 0.58, 0.68, 0.61, 0.73, 0.52, 0.54,\n",
       "       0.53, 0.62, 0.57, 0.48, 0.61, 0.59, 0.45, 0.62, 0.66, 0.62, 0.65,\n",
       "       0.55, 0.52, 0.68, 0.58, 0.49, 0.57, 0.62, 0.59, 0.56, 0.64, 0.55,\n",
       "       0.58, 0.54, 0.48, 0.56, 0.62, 0.56, 0.47, 0.62, 0.53, 0.67, 0.64,\n",
       "       0.72, 0.6 , 0.68, 0.51, 0.62, 0.51, 0.62, 0.58, 0.56, 0.66, 0.59,\n",
       "       0.58, 0.64, 0.64, 0.58, 0.64, 0.58, 0.67, 0.59, 0.7 , 0.64, 0.64,\n",
       "       0.59, 0.58, 0.68, 0.61, 0.64, 0.55, 0.57, 0.59, 0.51, 0.75, 0.63,\n",
       "       0.63, 0.59, 0.59, 0.59, 0.66, 0.67, 0.53, 0.64, 0.67, 0.54, 0.68,\n",
       "       0.6 , 0.66, 0.63, 0.61, 0.62, 0.63, 0.62, 0.65, 0.6 , 0.59, 0.61,\n",
       "       0.66, 0.47, 0.57, 0.66, 0.74, 0.45, 0.61, 0.62, 0.51, 0.62, 0.59,\n",
       "       0.59, 0.62, 0.54, 0.41, 0.66, 0.63, 0.5 , 0.37, 0.58, 0.55, 0.61,\n",
       "       0.5 , 0.56, 0.59, 0.53, 0.52, 0.63, 0.58, 0.61, 0.57, 0.63, 0.52,\n",
       "       0.61, 0.55, 0.57, 0.73, 0.4 , 0.51, 0.52, 0.53, 0.61, 0.65, 0.56,\n",
       "       0.65, 0.59, 0.63, 0.61, 0.61, 0.63, 0.63, 0.49, 0.44, 0.45, 0.54,\n",
       "       0.48, 0.49, 0.58, 0.62, 0.59, 0.63, 0.62, 0.47, 0.43, 0.61, 0.66,\n",
       "       0.48, 0.54, 0.58, 0.56, 0.57, 0.36, 0.57, 0.6 , 0.58, 0.59, 0.57,\n",
       "       0.64, 0.67, 0.57, 0.47, 0.64, 0.45, 0.42, 0.63, 0.61, 0.62, 0.6 ,\n",
       "       0.58, 0.75, 0.52, 0.54, 0.62, 0.53, 0.62, 0.62, 0.62, 0.6 , 0.62,\n",
       "       0.57, 0.64, 0.61, 0.62, 0.62, 0.59, 0.67, 0.63, 0.52, 0.51, 0.62,\n",
       "       0.56, 0.61, 0.56, 0.61, 0.77, 0.56, 0.64, 0.58, 0.62, 0.68, 0.67,\n",
       "       0.66, 0.57, 0.51, 0.69, 0.54, 0.65, 0.59, 0.56, 0.52, 0.67, 0.65,\n",
       "       0.66, 0.67, 0.62, 0.65, 0.61, 0.65, 0.5 , 0.62, 0.62, 0.6 , 0.53,\n",
       "       0.6 , 0.63, 0.65, 0.66, 0.69, 0.62, 0.6 , 0.68, 0.63, 0.61, 0.63,\n",
       "       0.5 , 0.52, 0.55, 0.67, 0.62, 0.65, 0.66, 0.6 , 0.6 , 0.74, 0.55,\n",
       "       0.49, 0.59, 0.61, 0.64, 0.6 , 0.62, 0.64, 0.65, 0.64, 0.61, 0.54,\n",
       "       0.72, 0.58, 0.64, 0.51, 0.57, 0.65, 0.55, 0.64, 0.58, 0.55, 0.59,\n",
       "       0.62, 0.6 , 0.62, 0.56, 0.56, 0.81, 0.63, 0.46, 0.61, 0.67, 0.67,\n",
       "       0.6 , 0.59, 0.49, 0.52, 0.6 , 0.32, 0.66, 0.58, 0.47, 0.53, 0.52,\n",
       "       0.52, 0.57, 0.6 , 0.59, 0.59, 0.65, 0.58, 0.59, 0.57, 0.58, 0.61,\n",
       "       0.51, 0.54, 0.61, 0.62, 0.44, 0.65, 0.58, 0.6 , 0.6 , 0.59, 0.62,\n",
       "       0.61, 0.57, 0.61, 0.63, 0.64, 0.54, 0.5 , 0.54, 0.54, 0.57, 0.66,\n",
       "       0.7 , 0.6 , 0.53, 0.58, 0.55, 0.49, 0.59, 0.6 ], dtype=float32)"
      ]
     },
     "execution_count": 358,
     "metadata": {},
     "output_type": "execute_result"
    }
   ],
   "source": [
    "sess.run(h).reshape([-1])"
   ]
  },
  {
   "cell_type": "code",
   "execution_count": 359,
   "metadata": {},
   "outputs": [
    {
     "data": {
      "text/plain": [
       "array([1, 1, 1, 1, 1, 1, 1, 1, 0, 0, 1, 1, 1, 0, 0, 0, 1, 1, 1, 1, 1, 1,\n",
       "       0, 1, 1, 1, 0, 1, 0, 1, 1, 1, 1, 0, 1, 1, 0, 1, 1, 0, 1, 1, 0, 1,\n",
       "       1, 1, 1, 1, 1, 1, 1, 1, 1, 1, 1, 1, 1, 1, 1, 1, 1, 1, 0, 1, 1, 1,\n",
       "       1, 1, 0, 1, 1, 1, 0, 1, 1, 1, 1, 1, 0, 1, 1, 1, 1, 1, 1, 1, 1, 1,\n",
       "       1, 1, 1, 0, 1, 1, 0, 1, 1, 1, 1, 1, 1, 1, 1, 0, 1, 1, 1, 1, 1, 1,\n",
       "       1, 1, 0, 1, 1, 1, 0, 1, 1, 1, 1, 1, 1, 1, 1, 1, 1, 1, 1, 1, 1, 1,\n",
       "       1, 1, 1, 1, 1, 1, 1, 1, 1, 1, 1, 1, 1, 1, 1, 1, 1, 1, 1, 1, 1, 1,\n",
       "       1, 1, 1, 1, 1, 1, 1, 1, 1, 1, 1, 1, 1, 1, 1, 1, 1, 1, 1, 1, 1, 1,\n",
       "       1, 0, 1, 1, 1, 0, 1, 1, 1, 1, 1, 1, 1, 1, 0, 1, 1, 0, 0, 1, 1, 1,\n",
       "       1, 1, 1, 1, 1, 1, 1, 1, 1, 1, 1, 1, 1, 1, 1, 0, 1, 1, 1, 1, 1, 1,\n",
       "       1, 1, 1, 1, 1, 1, 1, 0, 0, 0, 1, 0, 0, 1, 1, 1, 1, 1, 0, 0, 1, 1,\n",
       "       0, 1, 1, 1, 1, 0, 1, 1, 1, 1, 1, 1, 1, 1, 0, 1, 0, 0, 1, 1, 1, 1,\n",
       "       1, 1, 1, 1, 1, 1, 1, 1, 1, 1, 1, 1, 1, 1, 1, 1, 1, 1, 1, 1, 1, 1,\n",
       "       1, 1, 1, 1, 1, 1, 1, 1, 1, 1, 1, 1, 1, 1, 1, 1, 1, 1, 1, 1, 1, 1,\n",
       "       1, 1, 1, 1, 1, 1, 1, 1, 1, 1, 1, 1, 1, 1, 1, 1, 1, 1, 1, 1, 1, 1,\n",
       "       0, 1, 1, 1, 1, 1, 1, 1, 1, 1, 1, 0, 1, 1, 1, 1, 1, 1, 1, 1, 1, 1,\n",
       "       1, 1, 1, 1, 1, 1, 1, 1, 1, 1, 1, 1, 1, 1, 1, 1, 1, 1, 0, 1, 1, 1,\n",
       "       1, 1, 0, 1, 1, 0, 1, 1, 0, 1, 1, 1, 1, 1, 1, 1, 1, 1, 1, 1, 1, 1,\n",
       "       1, 1, 1, 1, 0, 1, 1, 1, 1, 1, 1, 1, 1, 1, 1, 1, 1, 0, 1, 1, 1, 1,\n",
       "       1, 1, 1, 1, 1, 0, 1, 1])"
      ]
     },
     "execution_count": 359,
     "metadata": {},
     "output_type": "execute_result"
    }
   ],
   "source": [
    "sess.run(predict).reshape([-1])"
   ]
  },
  {
   "cell_type": "code",
   "execution_count": null,
   "metadata": {},
   "outputs": [],
   "source": []
  },
  {
   "cell_type": "code",
   "execution_count": null,
   "metadata": {},
   "outputs": [],
   "source": []
  }
 ],
 "metadata": {
  "kernelspec": {
   "display_name": "Python 3",
   "language": "python",
   "name": "python3"
  },
  "language_info": {
   "codemirror_mode": {
    "name": "ipython",
    "version": 3
   },
   "file_extension": ".py",
   "mimetype": "text/x-python",
   "name": "python",
   "nbconvert_exporter": "python",
   "pygments_lexer": "ipython3",
   "version": "3.7.3"
  }
 },
 "nbformat": 4,
 "nbformat_minor": 2
}
