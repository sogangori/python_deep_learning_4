{
 "cells": [
  {
   "cell_type": "markdown",
   "metadata": {},
   "source": [
    "시험성적, 공부시간(X) > 통과(0),실패(1)"
   ]
  },
  {
   "cell_type": "code",
   "execution_count": 27,
   "metadata": {},
   "outputs": [],
   "source": [
    "import numpy as np\n",
    "import tensorflow as tf"
   ]
  },
  {
   "cell_type": "code",
   "execution_count": 17,
   "metadata": {},
   "outputs": [],
   "source": [
    "x = [1,2,3,5,6,7,8]\n",
    "y = [1,1,1,0,0,0,0]"
   ]
  },
  {
   "cell_type": "code",
   "execution_count": 22,
   "metadata": {},
   "outputs": [
    {
     "data": {
      "text/plain": [
       "(numpy.ndarray, (7, 1), 2)"
      ]
     },
     "execution_count": 22,
     "metadata": {},
     "output_type": "execute_result"
    }
   ],
   "source": [
    "x = np.array(x).reshape((-1,1)).astype(np.float32)\n",
    "y = np.array(y).reshape((-1,1)).astype(np.float32)\n",
    "type(x), x.shape, x.ndim"
   ]
  },
  {
   "cell_type": "code",
   "execution_count": 114,
   "metadata": {},
   "outputs": [],
   "source": [
    "w = tf.Variable(tf.random_normal(shape=[1,1]))\n",
    "b = tf.Variable(0.0)\n",
    "z = tf.matmul(x, w) + b \n",
    "h = tf.sigmoid(z)\n",
    "cost = tf.reduce_mean(tf.square(h - y)) #MSE\n",
    "predict = tf.cast(h > 0.5, tf.int32) # 모델과 상관 없습니다, 편의를 위해 사용\n",
    "accuracy = tf.reduce_mean(tf.cast(tf.equal(predict, tf.cast(y,tf.int32)), tf.int32))\n",
    "train = tf.train.GradientDescentOptimizer(0.01).minimize(cost)"
   ]
  },
  {
   "cell_type": "code",
   "execution_count": 123,
   "metadata": {},
   "outputs": [],
   "source": [
    "sess = tf.Session()\n",
    "sess.run(tf.global_variables_initializer())"
   ]
  },
  {
   "cell_type": "code",
   "execution_count": 131,
   "metadata": {},
   "outputs": [
    {
     "name": "stdout",
     "output_type": "stream",
     "text": [
      "0 0.042069674 1\n",
      "100 0.04165447 1\n",
      "200 0.041248612 1\n",
      "300 0.04085178 1\n",
      "400 0.040463664 1\n",
      "500 0.040083975 1\n",
      "600 0.039712403 1\n",
      "700 0.039348714 1\n",
      "800 0.038992636 1\n",
      "900 0.038643908 1\n"
     ]
    }
   ],
   "source": [
    "for i in range(1000):\n",
    "    _, acc, co = sess.run([train, accuracy, cost])\n",
    "    if i%100==0: print(i, co, acc)"
   ]
  },
  {
   "cell_type": "code",
   "execution_count": 103,
   "metadata": {},
   "outputs": [
    {
     "data": {
      "text/plain": [
       "array([ 2.5 ,  1.58,  0.66, -1.18, -2.1 , -3.02, -3.94], dtype=float32)"
      ]
     },
     "execution_count": 103,
     "metadata": {},
     "output_type": "execute_result"
    }
   ],
   "source": [
    "np.set_printoptions(precision=2)\n",
    "sess.run(z).reshape([-1])"
   ]
  },
  {
   "cell_type": "code",
   "execution_count": 104,
   "metadata": {},
   "outputs": [
    {
     "data": {
      "text/plain": [
       "array([0.92, 0.83, 0.66, 0.24, 0.11, 0.05, 0.02], dtype=float32)"
      ]
     },
     "execution_count": 104,
     "metadata": {},
     "output_type": "execute_result"
    }
   ],
   "source": [
    "sess.run(h).reshape([-1])"
   ]
  },
  {
   "cell_type": "code",
   "execution_count": 80,
   "metadata": {},
   "outputs": [
    {
     "data": {
      "text/plain": [
       "array([1, 1, 1, 0, 0, 0, 0])"
      ]
     },
     "execution_count": 80,
     "metadata": {},
     "output_type": "execute_result"
    }
   ],
   "source": [
    "sess.run(predict).reshape([-1])"
   ]
  },
  {
   "cell_type": "code",
   "execution_count": null,
   "metadata": {},
   "outputs": [],
   "source": []
  },
  {
   "cell_type": "code",
   "execution_count": null,
   "metadata": {},
   "outputs": [],
   "source": []
  }
 ],
 "metadata": {
  "kernelspec": {
   "display_name": "Python 3",
   "language": "python",
   "name": "python3"
  },
  "language_info": {
   "codemirror_mode": {
    "name": "ipython",
    "version": 3
   },
   "file_extension": ".py",
   "mimetype": "text/x-python",
   "name": "python",
   "nbconvert_exporter": "python",
   "pygments_lexer": "ipython3",
   "version": "3.7.3"
  }
 },
 "nbformat": 4,
 "nbformat_minor": 2
}
