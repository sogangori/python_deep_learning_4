{
 "cells": [
  {
   "cell_type": "code",
   "execution_count": 1,
   "metadata": {},
   "outputs": [],
   "source": [
    "import numpy as np\n",
    "import pandas as pd\n",
    "import tensorflow as tf\n",
    "import matplotlib.pyplot as plt\n",
    "from PIL import Image"
   ]
  },
  {
   "cell_type": "markdown",
   "metadata": {},
   "source": [
    "label.txt 을 읽어서 파싱 > x, y 를 준비"
   ]
  },
  {
   "cell_type": "code",
   "execution_count": 2,
   "metadata": {},
   "outputs": [],
   "source": [
    "folder = 'C:/Users/user/Downloads/ocr/'\n",
    "path= folder +'label.txt'\n",
    "dst_size = (32, 32) #w,h\n",
    "CHARACTER = 'AB가' # 모든 글자들"
   ]
  },
  {
   "cell_type": "code",
   "execution_count": 3,
   "metadata": {},
   "outputs": [],
   "source": [
    "df = pd.read_csv(path, encoding='cp949')"
   ]
  },
  {
   "cell_type": "code",
   "execution_count": 4,
   "metadata": {},
   "outputs": [
    {
     "name": "stdout",
     "output_type": "stream",
     "text": [
      "  class   file\n",
      "0     A  A.png\n"
     ]
    }
   ],
   "source": [
    "print(df.head(1))"
   ]
  },
  {
   "cell_type": "markdown",
   "metadata": {},
   "source": [
    "이미지를 읽이서 리사이즈하고 배열로 변환하자"
   ]
  },
  {
   "cell_type": "code",
   "execution_count": 5,
   "metadata": {},
   "outputs": [
    {
     "name": "stdout",
     "output_type": "stream",
     "text": [
      "4\n"
     ]
    }
   ],
   "source": [
    "image_arr_list = []\n",
    "for image_path in df['file']:\n",
    "    image = Image.open(folder+image_path)\n",
    "    image_resized = image.resize(dst_size)\n",
    "    image_arr = np.array(image_resized)\n",
    "    image_arr_list.append(image_arr)\n",
    "print(len(image_arr_list))"
   ]
  },
  {
   "cell_type": "code",
   "execution_count": 6,
   "metadata": {},
   "outputs": [
    {
     "name": "stdout",
     "output_type": "stream",
     "text": [
      "4\n"
     ]
    }
   ],
   "source": [
    "y_list = []\n",
    "for v in df['class'].values:    \n",
    "    #print(v, CHARACTER.index(v))\n",
    "    y_list.append(CHARACTER.index(v))\n",
    "print(len(y_list))"
   ]
  },
  {
   "cell_type": "code",
   "execution_count": 7,
   "metadata": {},
   "outputs": [
    {
     "name": "stdout",
     "output_type": "stream",
     "text": [
      "(4, 32, 32, 3) (4,) uint8 255\n"
     ]
    }
   ],
   "source": [
    "x = np.stack(image_arr_list, 0)\n",
    "y = np.stack(y_list, 0)\n",
    "print(x.shape, y.shape, x.dtype, np.max(x))"
   ]
  },
  {
   "cell_type": "markdown",
   "metadata": {},
   "source": [
    "Y = CNN(X)\n",
    "모양 (갯수, h, w, c)\n",
    "X (m, 32, 32, 3)\n",
    "conv1 : (m, 32, 32, 32)\n",
    "pool  : (m, 16, 16, 32)\n",
    "conv2 : (m, 16, 16, 64)\n",
    "pool  : (m,  8,  8, 64)\n",
    "conv3 : (m,  8,  8, 128)\n",
    "pool  : (m,  4,  4, 128)\n",
    "conv4 : (m,  4,  4, 128)\n",
    "pool  : (m,  2,  2, 128)\n",
    "conv5 : (m,  2,  2, 128)\n",
    "pool  : (m,  1,  1, 128)\n",
    "squeeze (m,  128)\n",
    "fc    : (m,  k)\n",
    "\n",
    "Y (m)\n",
    "Y_one_hot (m, k)"
   ]
  },
  {
   "cell_type": "markdown",
   "metadata": {},
   "source": [
    "# 숫자 샘플로 테스트\n",
    "from sklearn.datasets import load_digits\n",
    "x, y = load_digits(return_X_y=True)\n",
    "x.shape, y.shape\n",
    "x = np.reshape(x, [-1,8,8,1])\n",
    "print(x.shape)"
   ]
  },
  {
   "cell_type": "code",
   "execution_count": 8,
   "metadata": {},
   "outputs": [
    {
     "name": "stderr",
     "output_type": "stream",
     "text": [
      "Using TensorFlow backend.\n"
     ]
    }
   ],
   "source": [
    "import keras\n",
    "from keras.models import Sequential\n",
    "k = len(CHARACTER)\n",
    "#k = 10 #숫자 샘플\n",
    "#dst_size = (8,8)"
   ]
  },
  {
   "cell_type": "code",
   "execution_count": 14,
   "metadata": {},
   "outputs": [],
   "source": [
    "# 케라스 \n",
    "#tf.reset_default_graph() #초기화\n",
    "model = Sequential()\n",
    "model.add(keras.layers.Conv2D(32,[3,3], padding='same', \n",
    "                              input_shape=(dst_size[1], dst_size[0], 3)))\n",
    "model.add(keras.layers.MaxPool2D(pool_size=[2,2] ))\n",
    "model.add(keras.layers.Conv2D(64,[3,3], padding='same'))\n",
    "model.add(keras.layers.MaxPool2D(pool_size=[2,2]))\n",
    "model.add(keras.layers.Conv2D(128,[3,3], padding='same'))\n",
    "model.add(keras.layers.MaxPool2D(pool_size=[2,2]))\n",
    "model.add(keras.layers.Conv2D(128,[3,3], padding='same'))\n",
    "model.add(keras.layers.MaxPool2D(pool_size=[2,2]))\n",
    "model.add(keras.layers.Conv2D(128,[3,3], padding='same'))\n",
    "model.add(keras.layers.MaxPool2D(pool_size=[2,2]))\n",
    "model.add(keras.layers.Conv2D(128,[3,3], padding='same'))\n",
    "model.add(keras.layers.Flatten())\n",
    "model.add(keras.layers.Dense(k))\n",
    "model.add(keras.layers.Activation('softmax'))\n",
    "\n",
    "opt = keras.optimizers.rmsprop(lr=0.001)\n",
    "model.compile(optimizer=opt, loss='categorical_crossentropy', \n",
    "              metrics=['accuracy'])\n",
    "one_hot_labels = keras.utils.to_categorical(y, num_classes=k)"
   ]
  },
  {
   "cell_type": "code",
   "execution_count": 15,
   "metadata": {},
   "outputs": [
    {
     "name": "stdout",
     "output_type": "stream",
     "text": [
      "Epoch 1/20\n",
      " - 1s - loss: 1.0959 - acc: 0.0000e+00\n",
      "Epoch 2/20\n",
      " - 0s - loss: 2.5223 - acc: 0.5000\n",
      "Epoch 3/20\n",
      " - 0s - loss: 1.1603 - acc: 0.2500\n",
      "Epoch 4/20\n",
      " - 0s - loss: 1.2456 - acc: 0.5000\n",
      "Epoch 5/20\n",
      " - 0s - loss: 1.0773 - acc: 0.5000\n",
      "Epoch 6/20\n",
      " - 0s - loss: 0.9254 - acc: 1.0000\n",
      "Epoch 7/20\n",
      " - 0s - loss: 0.7833 - acc: 0.5000\n",
      "Epoch 8/20\n",
      " - 0s - loss: 0.6149 - acc: 1.0000\n",
      "Epoch 9/20\n",
      " - 0s - loss: 0.4387 - acc: 1.0000\n",
      "Epoch 10/20\n",
      " - 0s - loss: 0.5763 - acc: 0.5000\n",
      "Epoch 11/20\n",
      " - 0s - loss: 1.1090 - acc: 0.2500\n",
      "Epoch 12/20\n",
      " - 0s - loss: 0.4133 - acc: 0.7500\n",
      "Epoch 13/20\n",
      " - 0s - loss: 0.1397 - acc: 1.0000\n",
      "Epoch 14/20\n",
      " - 0s - loss: 0.0606 - acc: 1.0000\n",
      "Epoch 15/20\n",
      " - 0s - loss: 0.0344 - acc: 1.0000\n",
      "Epoch 16/20\n",
      " - 0s - loss: 0.0226 - acc: 1.0000\n",
      "Epoch 17/20\n",
      " - 0s - loss: 0.0162 - acc: 1.0000\n",
      "Epoch 18/20\n",
      " - 0s - loss: 0.0124 - acc: 1.0000\n",
      "Epoch 19/20\n",
      " - 0s - loss: 0.0097 - acc: 1.0000\n",
      "Epoch 20/20\n",
      " - 0s - loss: 0.0078 - acc: 1.0000\n"
     ]
    },
    {
     "data": {
      "text/plain": [
       "<keras.callbacks.History at 0x12b9b7be6a0>"
      ]
     },
     "execution_count": 15,
     "metadata": {},
     "output_type": "execute_result"
    }
   ],
   "source": [
    "xf = x.astype(np.float32)/255\n",
    "model.fit(xf, one_hot_labels, epochs=20, verbose=2)"
   ]
  },
  {
   "cell_type": "code",
   "execution_count": 11,
   "metadata": {},
   "outputs": [
    {
     "name": "stdout",
     "output_type": "stream",
     "text": [
      "4/4 [==============================] - 0s 18ms/step\n",
      "loss 8.05904769897461 score 0.5\n"
     ]
    }
   ],
   "source": [
    "score = model.evaluate(x, one_hot_labels)\n",
    "print('loss', score[0], 'score', score[1])"
   ]
  },
  {
   "cell_type": "markdown",
   "metadata": {},
   "source": [
    "# 텐서플로우\n",
    "\n",
    "#import tensorflow.contrib.slim as slim\n",
    "tf.reset_default_graph() #초기화\n",
    "def model(x):\n",
    "    x = tf.cast(x, tf.float32) # uint8 > float32 데이터 타입 변환\n",
    "    x = x / 255 # [0,255] > [0, 1] 정규화 \n",
    "    net = slim.conv2d(x, 32, [3,3], scope='conv1')\n",
    "    net = slim.max_pool2d(net, 2)\n",
    "    net = slim.conv2d(net, 64, [3,3], scope='conv2')\n",
    "    net = slim.max_pool2d(net, 2)\n",
    "    net = slim.conv2d(net, 128, [3,3], scope='conv3')\n",
    "    net = slim.max_pool2d(net, 2)\n",
    "    net = slim.conv2d(net, 128, [3,3], scope='conv4')\n",
    "    net = slim.max_pool2d(net, 2)\n",
    "    net = slim.conv2d(net, 128, [3,3], scope='conv5')\n",
    "    net = slim.max_pool2d(net, 2)\n",
    "    return net\n",
    "\n",
    "X = tf.placeholder(tf.uint8, [None, dst_size[1], dst_size[0], 3])\n",
    "y = tf.placeholder(tf.int64, [None])\n",
    "h = model(X)\n",
    "print(h)"
   ]
  },
  {
   "cell_type": "code",
   "execution_count": null,
   "metadata": {},
   "outputs": [],
   "source": []
  },
  {
   "cell_type": "code",
   "execution_count": null,
   "metadata": {},
   "outputs": [],
   "source": []
  }
 ],
 "metadata": {
  "kernelspec": {
   "display_name": "Python 3",
   "language": "python",
   "name": "python3"
  },
  "language_info": {
   "codemirror_mode": {
    "name": "ipython",
    "version": 3
   },
   "file_extension": ".py",
   "mimetype": "text/x-python",
   "name": "python",
   "nbconvert_exporter": "python",
   "pygments_lexer": "ipython3",
   "version": "3.6.9"
  }
 },
 "nbformat": 4,
 "nbformat_minor": 2
}
